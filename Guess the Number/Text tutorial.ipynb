{
 "cells": [
  {
   "cell_type": "markdown",
   "id": "cff3974b",
   "metadata": {},
   "source": [
    "# Guess the number"
   ]
  },
  {
   "cell_type": "markdown",
   "id": "c001a5d2",
   "metadata": {},
   "source": [
    "## Statement"
   ]
  },
  {
   "cell_type": "markdown",
   "id": "59359a5c",
   "metadata": {},
   "source": [
    "In we genrate a random number between 0-100 or you can chose your range according to your choice. Then we ask user to guess the number , then we throw hints by suggesting that if used guessed number is less or more than the radom number. Then we ask user to again guess the number , we again give hint and to these again and again untill the number becomes equal to randomly genrated number.Atlast we return number of guesses user to took to guess the number."
   ]
  },
  {
   "cell_type": "markdown",
   "id": "ce2b92a6",
   "metadata": {},
   "source": [
    "I am going to use python random **module** for this. A module is a python file , having alot of pre-written code, which we can use by using following syntax."
   ]
  },
  {
   "cell_type": "markdown",
   "id": "f07c467b",
   "metadata": {},
   "source": [
    "```python\n",
    "import ramdom\n",
    "```"
   ]
  },
  {
   "cell_type": "markdown",
   "id": "4e88f774",
   "metadata": {},
   "source": [
    "This module has a function called randint(a,b) which return a random integer between `[a,b]` `a` and `b` inclusive."
   ]
  },
  {
   "cell_type": "markdown",
   "id": "da1ed30e",
   "metadata": {},
   "source": [
    "```python\n",
    "import random\n",
    "\n",
    "random_number = random.randint(0,100)\n",
    "number = int(input(\"Guess the number (0-100):\"))\n",
    "guesses = 1\n",
    "```"
   ]
  },
  {
   "cell_type": "markdown",
   "id": "d2063974",
   "metadata": {},
   "source": [
    "In this I am storing random integer in variable `random_number` and taking users guess in `number`. Initializing `guesses` variable to store number of guesses."
   ]
  },
  {
   "cell_type": "markdown",
   "id": "5aa24f2f",
   "metadata": {},
   "source": [
    "```python\n",
    "while n != number:\n",
    "    if number > n:\n",
    "        print(\"Number is too high!!!\")\n",
    "    elif number < n:\n",
    "        print(\"Number is too less!!!\")\n",
    "    number = int(input(\"Guess the number (0-100)\"))\n",
    "    guesses += 1\n",
    "    \n",
    "```"
   ]
  },
  {
   "cell_type": "markdown",
   "id": "d7b5a04c",
   "metadata": {},
   "source": [
    "Condition for `while` loop `n != number` , say that run the loop untill the guessed and random number becomes equal.\n",
    "\n",
    "if the numbers are not equal the loop will run and then it checks if the guessed number is greater then the random number.if it is it prints ***number is too high***.\n",
    "\n",
    "else if it will check if the gusses number is less than the random number. if true then print ***number is too low***.\n",
    "\n",
    "T\n",
    "\n",
    "After  as user is going to guess for another time and we again take input and store it in number and we inceresed `gusses` by 1.\n",
    "\n",
    "This process repeats untill the numbers become equal as `n != number` this will result false and loop will end."
   ]
  },
  {
   "cell_type": "markdown",
   "id": "6cb06f34",
   "metadata": {},
   "source": [
    "```python\n",
    "print(\"Wahoo, you took \",guesses,\" to guess the number\")\n",
    "```"
   ]
  },
  {
   "cell_type": "markdown",
   "id": "3c999c1d",
   "metadata": {},
   "source": [
    "printed ***(\"Wahoo, you took \",guesses,\" to guess the number\")*** , where cnt is number of guesses."
   ]
  },
  {
   "cell_type": "markdown",
   "id": "d0338a12",
   "metadata": {},
   "source": [
    "### Whole Code:"
   ]
  },
  {
   "cell_type": "code",
   "execution_count": 5,
   "id": "c8c9e88e",
   "metadata": {},
   "outputs": [],
   "source": [
    "import random\n",
    "\n",
    "random_number = random.randint(0,100)\n",
    "number = int(input(\"Guess the number (0-100):\"))\n",
    "guesses = 1\n",
    "\n",
    "while number != random_number:\n",
    "    if number < random_number:\n",
    "        print(\"Too Low!!\")\n",
    "    elif number > random_number:\n",
    "        print(\"Too High\")\n",
    "    number = int(input(\"Guess the number (0-100):\"))\n",
    "    guesses += 1\n",
    "\n",
    "\n",
    "print(\"Wahoo, you took \",guesses,\" to guess the number\")"
   ]
  }
 ],
 "metadata": {
  "interpreter": {
   "hash": "f6246b25e200e4c5124e3e61789ac81350562f0761bbcf92ad9e48654207659c"
  },
  "kernelspec": {
   "display_name": "Python 3.9.5 64-bit",
   "language": "python",
   "name": "python3"
  },
  "language_info": {
   "codemirror_mode": {
    "name": "ipython",
    "version": 3
   },
   "file_extension": ".py",
   "mimetype": "text/x-python",
   "name": "python",
   "nbconvert_exporter": "python",
   "pygments_lexer": "ipython3",
   "version": "3.9.5"
  }
 },
 "nbformat": 4,
 "nbformat_minor": 5
}
