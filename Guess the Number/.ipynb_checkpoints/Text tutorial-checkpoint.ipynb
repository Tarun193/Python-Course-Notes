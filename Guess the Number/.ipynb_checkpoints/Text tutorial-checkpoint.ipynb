{
 "cells": [
  {
   "cell_type": "markdown",
   "id": "cff3974b",
   "metadata": {},
   "source": [
    "# Guess the number"
   ]
  },
  {
   "cell_type": "markdown",
   "id": "c001a5d2",
   "metadata": {},
   "source": [
    "## Statement"
   ]
  },
  {
   "cell_type": "markdown",
   "id": "59359a5c",
   "metadata": {},
   "source": [
    "In we genrate a random number between 0-100 or you can chose your range according to your choice. Then we ask user to guess the number , then we throw hints by suggesting that if used guessed number is less or more than the radom number. Then we ask user to again guess the number , we again give hint and to these again and again untill the number becomes equal to randomly genrated number.Atlast we return number of guesses user to took to guess the number."
   ]
  },
  {
   "cell_type": "markdown",
   "id": "ce2b92a6",
   "metadata": {},
   "source": [
    "I am going to use python random **module** for this. A module is a python file , having alot of pre-written code, which we can use by using following syntax."
   ]
  },
  {
   "cell_type": "markdown",
   "id": "f07c467b",
   "metadata": {},
   "source": [
    "```python\n",
    "import ramdom\n",
    "```"
   ]
  },
  {
   "cell_type": "markdown",
   "id": "4e88f774",
   "metadata": {},
   "source": [
    "This module has a function called randint(a,b) which return a random integer between `[a,b]` `a` and `b` inclusive."
   ]
  },
  {
   "cell_type": "markdown",
   "id": "da1ed30e",
   "metadata": {},
   "source": [
    "```python\n",
    "import random\n",
    "\n",
    "n = random.randint(0, 100)\n",
    "number = int(input(\"Guess the number (0-100):\"))\n",
    "cnt = 1\n",
    "flag = False\n",
    "```"
   ]
  },
  {
   "cell_type": "markdown",
   "id": "d2063974",
   "metadata": {},
   "source": [
    "In this I am storing random integer in variable `n` and taking users guess in `number`. Initializing `cnt` variable to store number of guesses. I have used `flag` because if the user by any chance gussed the correct number, the loop in next block is not going to run. To know whether the loop runs or not I used `flag`, as in loop I marked `flag` as `True`."
   ]
  },
  {
   "cell_type": "markdown",
   "id": "5aa24f2f",
   "metadata": {},
   "source": [
    "```python\n",
    "while n != number:\n",
    "    if number > n:\n",
    "        print(\"Number is too high!!!\")\n",
    "    elif number < n:\n",
    "        print(\"Number is too less!!!\")\n",
    "    flag = True\n",
    "    cnt += 1\n",
    "    number = int(input(\"Guess the number (0-100)\"))\n",
    "```"
   ]
  },
  {
   "cell_type": "markdown",
   "id": "d7b5a04c",
   "metadata": {},
   "source": [
    "Condition for `while` loop `n != number` , say that run the loop untill the guessed and random number becomes equal.\n",
    "\n",
    "if the numbers are not equal the loop will run and then it checks if the guessed number is greater then the random number.if it is it prints ***number is too high***.\n",
    "\n",
    "else if it will check if the gusses number is less than the random number. if true then print ***number is too low***.\n",
    "\n",
    "Then it assign `True` to `flag`, So mark that loop runs atleast one time.\n",
    "\n",
    "After that we inceresed `cnt` by 1, as user is going to guess for another time and we again take input and store it in number.\n",
    "\n",
    "This process repeats untill the numbers become equal as `n != number` this will result false and loop will end."
   ]
  },
  {
   "cell_type": "markdown",
   "id": "6cb06f34",
   "metadata": {},
   "source": [
    "```python\n",
    "if not flag:\n",
    "    print(\"Wahoo, you gussed the number in first go. Yup!!!\")\n",
    "else:\n",
    "    print(\"You gessed the number in \",cnt,\" gusses. Yup!!\")\n",
    "```"
   ]
  },
  {
   "cell_type": "markdown",
   "id": "3c999c1d",
   "metadata": {},
   "source": [
    "As flag is `False` intially, If the loop doesn't run it will remain `False`, so `not flag` will return `True`.\n",
    "\n",
    "\n",
    "If `not flag` returns `True` means loop doesn't run and user gussed in one go so , I printed as output ***\"Wahoo, you gussed the number in first go. Yup!!!\"***\n",
    "\n",
    "else printed ***(\"You gessed the number in \",`cnt`,\" gusses. Yup!!\")*** , where cnt is number of guesses."
   ]
  },
  {
   "cell_type": "markdown",
   "id": "d0338a12",
   "metadata": {},
   "source": [
    "### Whole Code:"
   ]
  },
  {
   "cell_type": "code",
   "execution_count": 1,
   "id": "c8c9e88e",
   "metadata": {},
   "outputs": [
    {
     "name": "stdout",
     "output_type": "stream",
     "text": [
      "Guess the number (0-100):34\n",
      "Number is too high!!!\n",
      "Guess the number (0-100):25\n",
      "Number is too high!!!\n",
      "Guess the number (0-100):15\n",
      "Number is too less!!!\n",
      "Guess the number (0-100):20\n",
      "Number is too high!!!\n",
      "Guess the number (0-100):17\n",
      "You gessed the number in  5  gusses. Yup!!\n"
     ]
    }
   ],
   "source": [
    "import random\n",
    "\n",
    "n = random.randint(0, 100)\n",
    "number = int(input(\"Guess the number (0-100):\"))\n",
    "cnt = 1\n",
    "flag = False\n",
    "\n",
    "while n != number:\n",
    "    if number > n:\n",
    "        print(\"Number is too high!!!\")\n",
    "    elif number < n:\n",
    "        print(\"Number is too less!!!\")\n",
    "    flag = True\n",
    "    cnt += 1\n",
    "    number = int(input(\"Guess the number (0-100):\"))\n",
    "\n",
    "if not flag:\n",
    "    print(\"Wahoo, you gussed the number in first go. Yup!!!\")\n",
    "else:\n",
    "    print(\"You gessed the number in \",cnt,\" gusses. Yup!!\")"
   ]
  }
 ],
 "metadata": {
  "kernelspec": {
   "display_name": "Python 3 (ipykernel)",
   "language": "python",
   "name": "python3"
  },
  "language_info": {
   "codemirror_mode": {
    "name": "ipython",
    "version": 3
   },
   "file_extension": ".py",
   "mimetype": "text/x-python",
   "name": "python",
   "nbconvert_exporter": "python",
   "pygments_lexer": "ipython3",
   "version": "3.9.5"
  }
 },
 "nbformat": 4,
 "nbformat_minor": 5
}
