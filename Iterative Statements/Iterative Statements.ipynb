{
 "cells": [
  {
   "cell_type": "markdown",
   "id": "879dc0bb",
   "metadata": {},
   "source": [
    "# Iterative Statements"
   ]
  },
  {
   "cell_type": "markdown",
   "id": "b736da6a",
   "metadata": {},
   "source": [
    "The set of statements that run again and again till a given condition is True. They are also known as loops\n",
    "\n",
    "There are Two types of loops.\n",
    "- While \n",
    "- for"
   ]
  },
  {
   "cell_type": "markdown",
   "id": "36425dd9",
   "metadata": {},
   "source": [
    "## While loop\n",
    "\n",
    "syntax:\n",
    "\n",
    "```python\n",
    "while condition:\n",
    "    statement(s)\n",
    "print(\"bye\")\n",
    "```\n",
    "Once the give condition becomes False the loop ends and controls transfer to the next statement just faster the loop, in this case it transfers to `print('bye')`\n",
    "\n",
    "### Example"
   ]
  },
  {
   "cell_type": "code",
   "execution_count": 4,
   "id": "35177adb",
   "metadata": {
    "scrolled": true
   },
   "outputs": [
    {
     "name": "stdout",
     "output_type": "stream",
     "text": [
      "hello 0\n",
      "hello 1\n",
      "hello 2\n",
      "hello 3\n",
      "hello 4\n",
      "hello 5\n",
      "hello 6\n",
      "hello 7\n",
      "hello 8\n",
      "hello 9\n"
     ]
    }
   ],
   "source": [
    "i = 0\n",
    "while i < 10:\n",
    "    print(\"hello\", i)\n",
    "    i += 1"
   ]
  },
  {
   "cell_type": "markdown",
   "id": "b85ae0e8",
   "metadata": {},
   "source": [
    "**hello** get printed 10 times as for `i`= 0,1,2,3,4,5,6,7,8,9 as `i` become zero `i<10` condition returns False and loop ended"
   ]
  },
  {
   "cell_type": "markdown",
   "id": "ae5110b1",
   "metadata": {},
   "source": [
    "## For loop\n",
    "\n",
    "The ***for loop*** in Python is used to iterate over a sequence (list, tuple, string) or other iterable objects. Iterating over a sequence is called traversal.\n",
    "\n",
    "syntax:\n",
    "\n",
    "```python\n",
    "for variable_name in range(start, end, jump): #jump is optional, by defualt 1.\n",
    "    statement(s)\n",
    "```\n",
    "Here end number is exclusive\n",
    "\n",
    "## Example"
   ]
  },
  {
   "cell_type": "code",
   "execution_count": 3,
   "id": "8eed3f42",
   "metadata": {},
   "outputs": [
    {
     "name": "stdout",
     "output_type": "stream",
     "text": [
      "hello 0\n",
      "hello 1\n",
      "hello 2\n",
      "hello 3\n",
      "hello 4\n",
      "hello 5\n",
      "hello 6\n",
      "hello 7\n",
      "hello 8\n",
      "hello 9\n"
     ]
    }
   ],
   "source": [
    "for i in range(0,10):\n",
    "    print(\"hello\", i)"
   ]
  },
  {
   "cell_type": "markdown",
   "id": "8b677e9e",
   "metadata": {},
   "source": [
    "As you can see it runs 10 times, till 9 as 10 is exclustive"
   ]
  },
  {
   "cell_type": "markdown",
   "id": "3501c75a",
   "metadata": {},
   "source": [
    "## For loop with list, tuple, string."
   ]
  },
  {
   "cell_type": "code",
   "execution_count": 5,
   "id": "8d86efdb",
   "metadata": {},
   "outputs": [],
   "source": [
    "s = \"hello\"\n",
    "ls = [1, 2, 3, 4, 5]\n",
    "t = (1.0, 2.0, 3., 4.)"
   ]
  },
  {
   "cell_type": "code",
   "execution_count": 6,
   "id": "0c292c22",
   "metadata": {},
   "outputs": [
    {
     "name": "stdout",
     "output_type": "stream",
     "text": [
      "h\n",
      "e\n",
      "l\n",
      "l\n",
      "o\n"
     ]
    }
   ],
   "source": [
    "for i in s:\n",
    "    print(i)"
   ]
  },
  {
   "cell_type": "code",
   "execution_count": 7,
   "id": "4240e723",
   "metadata": {},
   "outputs": [
    {
     "name": "stdout",
     "output_type": "stream",
     "text": [
      "1\n",
      "2\n",
      "3\n",
      "4\n",
      "5\n"
     ]
    }
   ],
   "source": [
    "for i in ls:\n",
    "    print(i)"
   ]
  },
  {
   "cell_type": "code",
   "execution_count": 8,
   "id": "6b685b53",
   "metadata": {},
   "outputs": [
    {
     "name": "stdout",
     "output_type": "stream",
     "text": [
      "1.0\n",
      "2.0\n",
      "3.0\n",
      "4.0\n"
     ]
    }
   ],
   "source": [
    "for j in t:\n",
    "    print(j)"
   ]
  },
  {
   "cell_type": "markdown",
   "id": "c0b477bb",
   "metadata": {},
   "source": [
    "In this variable in loops get each and every elements of sequence or collection one by one. "
   ]
  }
 ],
 "metadata": {
  "kernelspec": {
   "display_name": "Python 3 (ipykernel)",
   "language": "python",
   "name": "python3"
  },
  "language_info": {
   "codemirror_mode": {
    "name": "ipython",
    "version": 3
   },
   "file_extension": ".py",
   "mimetype": "text/x-python",
   "name": "python",
   "nbconvert_exporter": "python",
   "pygments_lexer": "ipython3",
   "version": "3.9.5"
  }
 },
 "nbformat": 4,
 "nbformat_minor": 5
}
