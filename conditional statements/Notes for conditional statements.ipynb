{
 "cells": [
  {
   "cell_type": "markdown",
   "id": "a4ba46b2",
   "metadata": {},
   "source": [
    "# There are 3 types of statements\n",
    "- Sequential\n",
    "- Conditional\n",
    "- iterative"
   ]
  },
  {
   "cell_type": "markdown",
   "id": "7ce82926",
   "metadata": {},
   "source": [
    "**statement:** Anything that does some thing is a statement. For e.g. printing something, declaring variable."
   ]
  },
  {
   "cell_type": "markdown",
   "id": "f03b9672",
   "metadata": {},
   "source": [
    "sequential statements are executed in a sequence, as you can see first print(\"hello\") got executed and after that our name variable got declared and the our variable got printed."
   ]
  },
  {
   "cell_type": "code",
   "execution_count": 2,
   "id": "5b8cd96f",
   "metadata": {},
   "outputs": [
    {
     "name": "stdout",
     "output_type": "stream",
     "text": [
      "hello\n",
      "Clown\n"
     ]
    }
   ],
   "source": [
    "print(\"hello\")\n",
    "name = \"Clown\"\n",
    "print(name)"
   ]
  },
  {
   "cell_type": "markdown",
   "id": "6ab3269f",
   "metadata": {},
   "source": [
    "But what if we want to execute some statements based on some condition, here we can use **Conditional Statements**."
   ]
  },
  {
   "cell_type": "markdown",
   "id": "ce6fb7f2",
   "metadata": {},
   "source": [
    "```\n",
    "if age greater than 18 \n",
    "   OUTPUT \"You can drive\"\n",
    "else\n",
    "   OUTPUT \"You Cannot drive\"\n",
    "```\n",
    "    "
   ]
  },
  {
   "cell_type": "markdown",
   "id": "e95bf604",
   "metadata": {},
   "source": [
    "## Conditional Statements in Python"
   ]
  },
  {
   "cell_type": "markdown",
   "id": "629eae74",
   "metadata": {},
   "source": [
    "```python\n",
    "if condition:\n",
    "    statement(s)\n",
    "else:\n",
    "    statement(s)\n",
    "```"
   ]
  },
  {
   "cell_type": "markdown",
   "id": "8293b9ec",
   "metadata": {},
   "source": [
    "We can use `if` without `else`, as `else` part is not necessary."
   ]
  },
  {
   "cell_type": "markdown",
   "id": "1b8e27a7",
   "metadata": {},
   "source": [
    "```python\n",
    "if condition1:\n",
    "    statement(s)\n",
    "if condition2:\n",
    "    statement(s)\n",
    "else:\n",
    "    statement(s)\n",
    "```"
   ]
  },
  {
   "cell_type": "markdown",
   "id": "fc9855d7",
   "metadata": {},
   "source": [
    "We can use multiple if Statements together, But it is not efficient. As if first condition gets true we may not want to check our second condition. But in above example it will also check the second condition even after over first conditons gets True.\n",
    "To avoid this inefficiency we can use `if` and `elif` statements."
   ]
  },
  {
   "cell_type": "markdown",
   "id": "773fb649",
   "metadata": {},
   "source": [
    "```python\n",
    "if condition1:\n",
    "    statement(s)\n",
    "elif condition2:\n",
    "    statement(s)\n",
    "else:\n",
    "    statement(s)\n",
    "```"
   ]
  },
  {
   "cell_type": "markdown",
   "id": "b319ac7a",
   "metadata": {},
   "source": [
    "In this case if the first condition retsults True, then it is not going to check second one"
   ]
  },
  {
   "cell_type": "markdown",
   "id": "e6d4554f",
   "metadata": {},
   "source": [
    "## Python example"
   ]
  },
  {
   "cell_type": "code",
   "execution_count": 4,
   "id": "a0b3e13b",
   "metadata": {},
   "outputs": [
    {
     "name": "stdout",
     "output_type": "stream",
     "text": [
      "Enter Your age:23\n",
      "Enter your NameTarun\n",
      "Tarun  You can Drive\n"
     ]
    }
   ],
   "source": [
    "age = int(input(\"Enter Your age:\"))\n",
    "name = input(\"Enter your Name\")\n",
    "if age >= 18:\n",
    "    print(name,\" You can Drive\")\n",
    "elif age >= 16 and age < 18:\n",
    "    print(name,\" You can Drive with a 18+ gaurdian\")\n",
    "else:\n",
    "    print(\"No,please don't drive\")"
   ]
  }
 ],
 "metadata": {
  "kernelspec": {
   "display_name": "Python 3 (ipykernel)",
   "language": "python",
   "name": "python3"
  },
  "language_info": {
   "codemirror_mode": {
    "name": "ipython",
    "version": 3
   },
   "file_extension": ".py",
   "mimetype": "text/x-python",
   "name": "python",
   "nbconvert_exporter": "python",
   "pygments_lexer": "ipython3",
   "version": "3.9.5"
  }
 },
 "nbformat": 4,
 "nbformat_minor": 5
}
